{
 "cells": [
  {
   "cell_type": "code",
   "execution_count": 15,
   "metadata": {},
   "outputs": [],
   "source": [
    "import numpy as np"
   ]
  },
  {
   "cell_type": "code",
   "execution_count": 16,
   "metadata": {},
   "outputs": [
    {
     "name": "stdout",
     "output_type": "stream",
     "text": [
      "[[4 4]\n",
      " [3 4]\n",
      " [3 1]]\n"
     ]
    }
   ],
   "source": [
    "arr=np.array([[4,4],[3,4],[3,1]])\n",
    "print(arr)"
   ]
  },
  {
   "cell_type": "code",
   "execution_count": 18,
   "metadata": {},
   "outputs": [
    {
     "name": "stdout",
     "output_type": "stream",
     "text": [
      "[ 3  4  5  6  7  8  9 10 11 12 13 14 15 16 17 18]\n"
     ]
    }
   ],
   "source": [
    "arrw=np.arange(3,19)\n",
    "print(arrw)"
   ]
  },
  {
   "cell_type": "code",
   "execution_count": 34,
   "metadata": {},
   "outputs": [
    {
     "name": "stdout",
     "output_type": "stream",
     "text": [
      "[4 6 3 8 1 4 4 5 6 1 8 2]\n"
     ]
    }
   ],
   "source": [
    "rand_6=np.random.randint(1,9,12)\n",
    "print(rand_6)"
   ]
  },
  {
   "cell_type": "code",
   "execution_count": 52,
   "metadata": {},
   "outputs": [
    {
     "name": "stdout",
     "output_type": "stream",
     "text": [
      "[0.92340237 0.76142758 0.29309249 0.28482678 0.25186339 0.85470137]\n"
     ]
    }
   ],
   "source": [
    "rand_5=np.random.random((6))\n",
    "print(rand_5)"
   ]
  },
  {
   "cell_type": "code",
   "execution_count": 54,
   "metadata": {},
   "outputs": [
    {
     "data": {
      "text/plain": [
       "array([4.92340237, 4.76142758, 4.29309249, 4.28482678, 4.25186339,\n",
       "       4.85470137])"
      ]
     },
     "execution_count": 54,
     "metadata": {},
     "output_type": "execute_result"
    }
   ],
   "source": [
    "rand_4=rand_5+4\n",
    "rand_4"
   ]
  },
  {
   "cell_type": "code",
   "execution_count": 64,
   "metadata": {},
   "outputs": [
    {
     "name": "stdout",
     "output_type": "stream",
     "text": [
      "1.051281781435938\n"
     ]
    }
   ],
   "source": [
    "\n",
    "\n",
    "value = np.random.uniform(-2, 2)\n",
    "print(value)"
   ]
  },
  {
   "cell_type": "code",
   "execution_count": 65,
   "metadata": {},
   "outputs": [
    {
     "name": "stdout",
     "output_type": "stream",
     "text": [
      "[ 6  7  8  9 10 11 12 13 14 15 16 17 18 19 20]\n",
      "[22 25 28 31 34 37 40 43 46 49 52 55 58 61 64]\n"
     ]
    }
   ],
   "source": [
    "import numpy as np\n",
    "feature = np.arange(6,21)\n",
    "print(feature)\n",
    "label = (3*feature)+4\n",
    "print(label)"
   ]
  },
  {
   "cell_type": "code",
   "execution_count": 66,
   "metadata": {},
   "outputs": [
    {
     "name": "stdout",
     "output_type": "stream",
     "text": [
      "[-1.38583128 -0.48214873  0.32504569 -0.60901863  0.1843016   0.26947726\n",
      "  0.29232436  0.91717191  1.83743781 -1.6905267  -0.5819994   1.911118\n",
      " -0.23470701 -0.82528621 -0.57671363]\n",
      "[20.61416872 24.51785127 28.32504569 30.39098137 34.1843016  37.26947726\n",
      " 40.29232436 43.91717191 47.83743781 47.3094733  51.4180006  56.911118\n",
      " 57.76529299 60.17471379 63.42328637]\n"
     ]
    }
   ],
   "source": [
    "noise = np.random.uniform(-2,2,len(label))\n",
    "print(noise)\n",
    "label = label+noise  # write your code here\n",
    "print(label)"
   ]
  },
  {
   "cell_type": "markdown",
   "metadata": {},
   "source": []
  },
  {
   "cell_type": "markdown",
   "metadata": {},
   "source": []
  },
  {
   "cell_type": "code",
   "execution_count": 67,
   "metadata": {},
   "outputs": [
    {
     "name": "stdout",
     "output_type": "stream",
     "text": [
      "[-0.28369753  1.30508456  0.19483441 -0.77394675  1.79411271  0.14240219\n",
      "  1.90987926 -0.47362598 -1.8668763   1.04816594  0.56581109  1.8719255\n",
      "  0.74116355 -0.62517401 -1.36893627]\n",
      "[20.33047119 25.82293583 28.5198801  29.61703462 35.97841431 37.41187945\n",
      " 42.20220362 43.44354593 45.97056151 48.35763924 51.98381169 58.78304349\n",
      " 58.50645654 59.54953978 62.0543501 ]\n"
     ]
    }
   ],
   "source": [
    "noise = np.random.uniform(-2,2,len(label))\n",
    "print(noise)\n",
    "label = label+noise  # write your code here\n",
    "print(label)"
   ]
  }
 ],
 "metadata": {
  "kernelspec": {
   "display_name": "Python 3",
   "language": "python",
   "name": "python3"
  },
  "language_info": {
   "codemirror_mode": {
    "name": "ipython",
    "version": 3
   },
   "file_extension": ".py",
   "mimetype": "text/x-python",
   "name": "python",
   "nbconvert_exporter": "python",
   "pygments_lexer": "ipython3",
   "version": "3.10.6"
  },
  "orig_nbformat": 4
 },
 "nbformat": 4,
 "nbformat_minor": 2
}
